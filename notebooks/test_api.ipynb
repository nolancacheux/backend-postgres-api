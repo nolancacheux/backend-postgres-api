{
    "cells": [
        {
            "cell_type": "markdown",
            "metadata": {},
            "source": [
                "# Backend API Testing and Analysis\n",
                "\n",
                "We are testing the REST API developed in NestJS; analyzing performance and integration with PostgreSQL.\n",
                "\n",
                "### Objectives:\n",
                "- Verify API connection and responses\n",
                "- Test adding new data\n",
                "- Analyze query performance\n",
                "- Confirm correct integration with the PostgreSQL database\n"
            ]
        },
        {
            "cell_type": "code",
            "execution_count": 34,
            "metadata": {},
            "outputs": [
                {
                    "name": "stdout",
                    "output_type": "stream",
                    "text": [
                        "Requirement already satisfied: requests in c:\\users\\nolan\\anaconda3\\envs\\v2\\lib\\site-packages (2.32.3)\n",
                        "Requirement already satisfied: pandas in c:\\users\\nolan\\anaconda3\\envs\\v2\\lib\\site-packages (2.2.3)\n",
                        "Requirement already satisfied: matplotlib in c:\\users\\nolan\\anaconda3\\envs\\v2\\lib\\site-packages (3.10.0)\n",
                        "Requirement already satisfied: seaborn in c:\\users\\nolan\\anaconda3\\envs\\v2\\lib\\site-packages (0.13.2)\n",
                        "Requirement already satisfied: faker in c:\\users\\nolan\\anaconda3\\envs\\v2\\lib\\site-packages (37.0.1)\n",
                        "Requirement already satisfied: psycopg2-binary in c:\\users\\nolan\\anaconda3\\envs\\v2\\lib\\site-packages (2.9.10)\n",
                        "Requirement already satisfied: charset-normalizer<4,>=2 in c:\\users\\nolan\\anaconda3\\envs\\v2\\lib\\site-packages (from requests) (3.4.1)\n",
                        "Requirement already satisfied: idna<4,>=2.5 in c:\\users\\nolan\\anaconda3\\envs\\v2\\lib\\site-packages (from requests) (3.10)\n",
                        "Requirement already satisfied: urllib3<3,>=1.21.1 in c:\\users\\nolan\\anaconda3\\envs\\v2\\lib\\site-packages (from requests) (2.3.0)\n",
                        "Requirement already satisfied: certifi>=2017.4.17 in c:\\users\\nolan\\anaconda3\\envs\\v2\\lib\\site-packages (from requests) (2025.1.31)\n",
                        "Requirement already satisfied: numpy>=1.26.0 in c:\\users\\nolan\\anaconda3\\envs\\v2\\lib\\site-packages (from pandas) (2.0.2)\n",
                        "Requirement already satisfied: python-dateutil>=2.8.2 in c:\\users\\nolan\\anaconda3\\envs\\v2\\lib\\site-packages (from pandas) (2.9.0.post0)\n",
                        "Requirement already satisfied: pytz>=2020.1 in c:\\users\\nolan\\anaconda3\\envs\\v2\\lib\\site-packages (from pandas) (2025.1)\n",
                        "Requirement already satisfied: tzdata>=2022.7 in c:\\users\\nolan\\anaconda3\\envs\\v2\\lib\\site-packages (from pandas) (2025.1)\n",
                        "Requirement already satisfied: contourpy>=1.0.1 in c:\\users\\nolan\\anaconda3\\envs\\v2\\lib\\site-packages (from matplotlib) (1.3.1)\n",
                        "Requirement already satisfied: cycler>=0.10 in c:\\users\\nolan\\anaconda3\\envs\\v2\\lib\\site-packages (from matplotlib) (0.12.1)\n",
                        "Requirement already satisfied: fonttools>=4.22.0 in c:\\users\\nolan\\anaconda3\\envs\\v2\\lib\\site-packages (from matplotlib) (4.55.6)\n",
                        "Requirement already satisfied: kiwisolver>=1.3.1 in c:\\users\\nolan\\anaconda3\\envs\\v2\\lib\\site-packages (from matplotlib) (1.4.8)\n",
                        "Requirement already satisfied: packaging>=20.0 in c:\\users\\nolan\\anaconda3\\envs\\v2\\lib\\site-packages (from matplotlib) (24.2)\n",
                        "Requirement already satisfied: pillow>=8 in c:\\users\\nolan\\anaconda3\\envs\\v2\\lib\\site-packages (from matplotlib) (11.1.0)\n",
                        "Requirement already satisfied: pyparsing>=2.3.1 in c:\\users\\nolan\\anaconda3\\envs\\v2\\lib\\site-packages (from matplotlib) (3.2.1)\n",
                        "Requirement already satisfied: six>=1.5 in c:\\users\\nolan\\anaconda3\\envs\\v2\\lib\\site-packages (from python-dateutil>=2.8.2->pandas) (1.17.0)\n",
                        "Note: you may need to restart the kernel to use updated packages.\n"
                    ]
                }
            ],
            "source": [
                "%pip install requests pandas matplotlib seaborn faker psycopg2-binary"
            ]
        },
        {
            "cell_type": "code",
            "execution_count": 35,
            "metadata": {},
            "outputs": [],
            "source": [
                "# Import necessary libraries\n",
                "import requests\n",
                "import pandas as pd\n",
                "import matplotlib.pyplot as plt\n",
                "import seaborn as sns\n",
                "from faker import Faker\n",
                "import time\n",
                "import psycopg2\n"
            ]
        },
        {
            "cell_type": "markdown",
            "metadata": {},
            "source": [
                "Now, start the NestJS API in a terminal:\n",
                "\n",
                "```bash\n",
                "npm run start:dev\n",
                "```"
            ]
        },
        {
            "cell_type": "markdown",
            "metadata": {},
            "source": [
                "## Defining API Connection Parameters"
            ]
        },
        {
            "cell_type": "code",
            "execution_count": 36,
            "metadata": {},
            "outputs": [],
            "source": [
                "# API URL\n",
                "BASE_URL = \"http://localhost:3000/users\""
            ]
        },
        {
            "cell_type": "markdown",
            "metadata": {},
            "source": [
                "## Checking API Connection"
            ]
        },
        {
            "cell_type": "code",
            "execution_count": 37,
            "metadata": {},
            "outputs": [
                {
                    "name": "stdout",
                    "output_type": "stream",
                    "text": [
                        "GET Status: 200\n",
                        "   id   firstName   lastName                             email  \\\n",
                        "0   1       Lonny      Blick               Horacio64@yahoo.com   \n",
                        "1   2     Mikayla     Kemmer                 Yasmin1@gmail.com   \n",
                        "2   3       Mable     Marvin        Giuseppe_Corwin9@gmail.com   \n",
                        "3   4  Marjolaine      Swift           Lelah_Okuneva@gmail.com   \n",
                        "4   5      Celine  Bergstrom  Jennifer.Keebler-Brown@gmail.com   \n",
                        "\n",
                        "          password  \n",
                        "0  1roB53FZYigd_KV  \n",
                        "1  AL2pQutBREPYfQq  \n",
                        "2  m9p9OTCKepxDwCW  \n",
                        "3  GSyco4296QTMQMP  \n",
                        "4  XnxgCYDL5KLvzj9  \n"
                    ]
                }
            ],
            "source": [
                "# Test GET endpoint (retrieve users)\n",
                "response = requests.get(BASE_URL)\n",
                "print(\"GET Status:\", response.status_code)\n",
                "\n",
                "if response.status_code == 200:\n",
                "    data = response.json()\n",
                "    df = pd.DataFrame(data)\n",
                "    print(df.head())  # Display first 5 users\n"
            ]
        },
        {
            "cell_type": "markdown",
            "metadata": {},
            "source": [
                "## Adding a User via API"
            ]
        },
        {
            "cell_type": "code",
            "execution_count": 38,
            "metadata": {},
            "outputs": [
                {
                    "name": "stdout",
                    "output_type": "stream",
                    "text": [
                        "POST Status: 201\n",
                        "User added: {'id': 202, 'firstName': 'Erin', 'lastName': 'Baker', 'email': 'schwartznicole@example.net', 'password': 'j2VnXf(i(7'}\n"
                    ]
                }
            ],
            "source": [
                "# Create a new user with Faker\n",
                "fake = Faker()\n",
                "user_data = {\n",
                "    \"firstName\": fake.first_name(),\n",
                "    \"lastName\": fake.last_name(),\n",
                "    \"email\": fake.unique.email(),\n",
                "    \"password\": fake.password()\n",
                "}\n",
                "\n",
                "post_response = requests.post(BASE_URL, json=user_data)\n",
                "print(\"POST Status:\", post_response.status_code)\n",
                "\n",
                "if post_response.status_code == 201:\n",
                "    print(\"User added:\", post_response.json())\n"
            ]
        },
        {
            "cell_type": "markdown",
            "metadata": {},
            "source": [
                "## Query Performance Analysis"
            ]
        },
        {
            "cell_type": "code",
            "execution_count": 39,
            "metadata": {},
            "outputs": [],
            "source": [
                "# Execute 100 GET requests and measure response time\n",
                "durations = []\n",
                "for _ in range(100):\n",
                "    start = time.time()\n",
                "    requests.get(BASE_URL)\n",
                "    durations.append(time.time() - start)\n"
            ]
        },
        {
            "cell_type": "markdown",
            "metadata": {},
            "source": [
                "### Visualizing GET Request Response Times"
            ]
        },
        {
            "cell_type": "code",
            "execution_count": 40,
            "metadata": {},
            "outputs": [
                {
                    "data": {
                        "image/png": "[encoded data removed]",
                        "text/plain": [
                            "<Figure size 640x480 with 1 Axes>"
                        ]
                    },
                    "metadata": {},
                    "output_type": "display_data"
                }
            ],
            "source": [
                "sns.histplot(durations, kde=True)\n",
                "plt.title(\"Distribution of 100 GET Request Response Times\")\n",
                "plt.xlabel(\"Time (s)\")\n",
                "plt.ylabel(\"Number of Requests\")\n",
                "plt.show()\n"
            ]
        },
        {
            "cell_type": "markdown",
            "metadata": {},
            "source": [
                "## Verifying Data Directly in PostgreSQL"
            ]
        },
        {
            "cell_type": "code",
            "execution_count": 41,
            "metadata": {},
            "outputs": [
                {
                    "name": "stdout",
                    "output_type": "stream",
                    "text": [
                        "Total number of users in the database: 202\n"
                    ]
                }
            ],
            "source": [
                "# Connect to PostgreSQL\n",
                "conn = psycopg2.connect(\n",
                "    host=\"localhost\",\n",
                "    port=5432,\n",
                "    user=\"postgres\",\n",
                "    password=\"postgres\",\n",
                "    database=\"mydb\"\n",
                ")\n",
                "\n",
                "cur = conn.cursor()\n",
                "cur.execute(\"SELECT COUNT(*) FROM \\\"user\\\";\")\n",
                "user_count = cur.fetchone()\n",
                "print(\"Total number of users in the database:\", user_count[0])\n",
                "\n",
                "cur.close()\n",
                "conn.close()\n"
            ]
        }
    ],
    "metadata": {
        "language_info": {
            "name": "python"
        }
    },
    "nbformat": 4,
    "nbformat_minor": 2
}
